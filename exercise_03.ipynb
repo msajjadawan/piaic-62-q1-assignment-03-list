{
 "cells": [
  {
   "cell_type": "markdown",
   "metadata": {},
   "source": [
    "**Python Exercises on Lists Exercise 3-1: Names**\n",
    "\n",
    "● Task: Store the names of a few of your friends in a list called names. Print each person’s name by accessing each element in the list, one at a time."
   ]
  },
  {
   "cell_type": "code",
   "execution_count": 20,
   "metadata": {},
   "outputs": [
    {
     "name": "stdout",
     "output_type": "stream",
     "text": [
      "Rahet\n",
      "Aarsh\n",
      "Riham\n",
      "Abood\n",
      "Hayyan\n"
     ]
    }
   ],
   "source": [
    "friends_name = [\"Rahet\", \"Aarsh\", \"Riham\", \"Abood\", \"Hayyan\"]\n",
    "for name in friends_name:\n",
    "    print(name)"
   ]
  },
  {
   "cell_type": "markdown",
   "metadata": {},
   "source": [
    "**Exercise 3-2: Greetings**\n",
    "\n",
    "● Task: Start with the list you used in Exercise 3-1. Instead of just printing each person’s name, print a message to them. The text of each message should be the same, but each message should be personalized with the person’s name."
   ]
  },
  {
   "cell_type": "code",
   "execution_count": 21,
   "metadata": {},
   "outputs": [
    {
     "name": "stdout",
     "output_type": "stream",
     "text": [
      "Welcome Rahet to PIAIC world\n",
      "Welcome Aarsh to PIAIC world\n",
      "Welcome Riham to PIAIC world\n",
      "Welcome Abood to PIAIC world\n",
      "Welcome Hayyan to PIAIC world\n"
     ]
    }
   ],
   "source": [
    "for name in friends_name:\n",
    "    print(f\"Welcome {name} to PIAIC world\")\n",
    "    "
   ]
  },
  {
   "cell_type": "markdown",
   "metadata": {},
   "source": [
    "**Exercise 3-3: Your Own List**\n",
    "\n",
    "● Task: Think of your favorite mode of transportation, such as a motorcycle or a car, and make a list that stores several examples. Use your list to print a series of statements about these items, such as “I would like to own a Honda motorcycle.”"
   ]
  },
  {
   "cell_type": "code",
   "execution_count": 22,
   "metadata": {},
   "outputs": [
    {
     "name": "stdout",
     "output_type": "stream",
     "text": [
      "I would like to own a Honda CBR\n",
      "I would like to own a Tesla Model S\n",
      "I would like to own a Lamborghini SVJ\n",
      "I would like to own a Bugatti DIVO\n"
     ]
    }
   ],
   "source": [
    "fave_transportation = [\"Honda CBR\", \"Tesla Model S\", \"Lamborghini SVJ\",\"Bugatti DIVO\"]\n",
    "for item in fave_transportation:\n",
    "    print(f\"I would like to own a {item}\")"
   ]
  },
  {
   "cell_type": "markdown",
   "metadata": {},
   "source": [
    "**Exercise 3-4: Guest List**\n",
    "\n",
    "● Task: If you could invite anyone, living or deceased, to dinner, who would you invite? Make a list that includes at least three people you’d like to invite to dinner. Then use your list to print a message to each person, inviting them to dinner."
   ]
  },
  {
   "cell_type": "code",
   "execution_count": 23,
   "metadata": {},
   "outputs": [
    {
     "name": "stdout",
     "output_type": "stream",
     "text": [
      "Dear Altaf Awan,\n",
      "You are cordially invited to dinner. We would be honored to have you join us.\n",
      "Looking forward to an evening of engaging conversation and inspiration.\n",
      "\n",
      "Dear Tariq Awan,\n",
      "You are cordially invited to dinner. We would be honored to have you join us.\n",
      "Looking forward to an evening of engaging conversation and inspiration.\n",
      "\n",
      "Dear Misbah Awan,\n",
      "You are cordially invited to dinner. We would be honored to have you join us.\n",
      "Looking forward to an evening of engaging conversation and inspiration.\n",
      "\n",
      "Dear Shahida Awan,\n",
      "You are cordially invited to dinner. We would be honored to have you join us.\n",
      "Looking forward to an evening of engaging conversation and inspiration.\n",
      "\n",
      "Dear Zahida Awan,\n",
      "You are cordially invited to dinner. We would be honored to have you join us.\n",
      "Looking forward to an evening of engaging conversation and inspiration.\n",
      "\n"
     ]
    }
   ],
   "source": [
    "guest_list = [\"Altaf Awan\", \"Tariq Awan\", \"Misbah Awan\",\"Shahida Awan\", \"Zahida Awan\"]\n",
    "for guest in guest_list:\n",
    "    print(f\"Dear {guest},\")\n",
    "    print(\"You are cordially invited to dinner. We would be honored to have you join us.\")\n",
    "    print(\"Looking forward to an evening of engaging conversation and inspiration.\")\n",
    "    print()  # Print a blank line for better readability"
   ]
  },
  {
   "cell_type": "markdown",
   "metadata": {},
   "source": [
    "**Exercise 3-5: Changing Guest List**\n",
    "\n",
    "● Task: Start with your program from Exercise 3-4. Add a print() call at the end of your program, stating the name of the guest who can’t make it. Modify your list, replacing the name of the guest who can’t make it with the name of the new person you are inviting. Print a second set of invitation messages, one for each person who is still in your list."
   ]
  },
  {
   "cell_type": "code",
   "execution_count": 24,
   "metadata": {},
   "outputs": [
    {
     "name": "stdout",
     "output_type": "stream",
     "text": [
      "Tariq Awan and Misbah Awan will not join us due to personal engagement in their family\n",
      "----New Invitations----\n",
      "Dear Altaf Awan,\n",
      "You are cordially invited to dinner. We would be honored to have you join us.\n",
      "Looking forward to an evening of engaging conversation and inspiration.\n",
      "\n",
      "Dear Shahida Awan,\n",
      "You are cordially invited to dinner. We would be honored to have you join us.\n",
      "Looking forward to an evening of engaging conversation and inspiration.\n",
      "\n",
      "Dear Zahida Awan,\n",
      "You are cordially invited to dinner. We would be honored to have you join us.\n",
      "Looking forward to an evening of engaging conversation and inspiration.\n",
      "\n",
      "Dear Aarsh Awan,\n",
      "You are cordially invited to dinner. We would be honored to have you join us.\n",
      "Looking forward to an evening of engaging conversation and inspiration.\n",
      "\n",
      "Dear Kaab Awan,\n",
      "You are cordially invited to dinner. We would be honored to have you join us.\n",
      "Looking forward to an evening of engaging conversation and inspiration.\n",
      "\n"
     ]
    }
   ],
   "source": [
    "print(\"Tariq Awan and Misbah Awan will not join us due to personal engagement in their family\")\n",
    "# remove guest who can not attend\n",
    "guest_list.remove(\"Tariq Awan\")\n",
    "guest_list.remove(\"Misbah Awan\")\n",
    "# adding new guests\n",
    "guest_list.append(\"Aarsh Awan\")\n",
    "guest_list.append(\"Kaab Awan\")\n",
    "print(\"----New Invitations----\")\n",
    "# sending invites to iupdated huest list\n",
    "for guest in guest_list:\n",
    "    print(f\"Dear {guest},\")\n",
    "    print(\"You are cordially invited to dinner. We would be honored to have you join us.\")\n",
    "    print(\"Looking forward to an evening of engaging conversation and inspiration.\")\n",
    "    print()  # Print a blank line for better readability\n",
    "\n",
    "\n"
   ]
  },
  {
   "cell_type": "markdown",
   "metadata": {},
   "source": [
    "**Exercise 3-6: More Guests**\n",
    "\n",
    "● Task: Start with your program from Exercise 3-4 or 3-5. Add a print() call to the end of your program, informing people that you found a bigger table. Use insert() to add one new guest to the beginning of your list. Use insert() to add one new guest to the middle of your list. Use append() to add one new guest to the end of your list. Print a new set of invitation messages, one for each person in your list."
   ]
  },
  {
   "cell_type": "code",
   "execution_count": 25,
   "metadata": {},
   "outputs": [
    {
     "name": "stdout",
     "output_type": "stream",
     "text": [
      "We found a bigger table, so we will add few more guests to the invitaion list.\n",
      "----New Invitations----\n",
      "Dear Javed Chouhan,\n",
      "You are cordially invited to dinner. We would be honored to have you join us.\n",
      "Looking forward to an evening of engaging conversation and inspiration.\n",
      "\n",
      "Dear Altaf Awan,\n",
      "You are cordially invited to dinner. We would be honored to have you join us.\n",
      "Looking forward to an evening of engaging conversation and inspiration.\n",
      "\n",
      "Dear Shahida Awan,\n",
      "You are cordially invited to dinner. We would be honored to have you join us.\n",
      "Looking forward to an evening of engaging conversation and inspiration.\n",
      "\n",
      "Dear Zahida Awan,\n",
      "You are cordially invited to dinner. We would be honored to have you join us.\n",
      "Looking forward to an evening of engaging conversation and inspiration.\n",
      "\n",
      "Dear Komal Awan,\n",
      "You are cordially invited to dinner. We would be honored to have you join us.\n",
      "Looking forward to an evening of engaging conversation and inspiration.\n",
      "\n",
      "Dear Aarsh Awan,\n",
      "You are cordially invited to dinner. We would be honored to have you join us.\n",
      "Looking forward to an evening of engaging conversation and inspiration.\n",
      "\n",
      "Dear Kaab Awan,\n",
      "You are cordially invited to dinner. We would be honored to have you join us.\n",
      "Looking forward to an evening of engaging conversation and inspiration.\n",
      "\n",
      "Dear Imran Awan,\n",
      "You are cordially invited to dinner. We would be honored to have you join us.\n",
      "Looking forward to an evening of engaging conversation and inspiration.\n",
      "\n"
     ]
    }
   ],
   "source": [
    "print(\"We found a bigger table, so we will add few more guests to the invitaion list.\")\n",
    "guest_list.insert(0, \"Javed Chouhan\")\n",
    "guest_list.insert(4, \"Komal Awan\")\n",
    "guest_list.append(\"Imran Awan\")\n",
    "\n",
    "print(\"----New Invitations----\")\n",
    "# sending invites to iupdated huest list\n",
    "for guest in guest_list:\n",
    "    print(f\"Dear {guest},\")\n",
    "    print(\"You are cordially invited to dinner. We would be honored to have you join us.\")\n",
    "    print(\"Looking forward to an evening of engaging conversation and inspiration.\")\n",
    "    print()  # Print a blank line for better readability\n",
    "\n",
    "\n"
   ]
  },
  {
   "cell_type": "markdown",
   "metadata": {},
   "source": [
    "**Exercise 3-7: Shrinking Guest List**\n",
    "\n",
    "● Task: Start with your program from Exercise 3-6. Add a new line that prints a message saying that you can invite only two people for dinner. Use pop() to remove guests from\n",
    "your list one at a time until only two names remain in your list. Each time you pop a name from your list, print a message to that person letting them know you’re sorry you can’t invite them to dinner. Print a message to each of the two people still on your list, letting them know they’re still invited. Use del to remove the last two names from your list, so you have an empty list. Print your list to make sure you actually have an empty list at the end of your program."
   ]
  },
  {
   "cell_type": "code",
   "execution_count": 26,
   "metadata": {},
   "outputs": [
    {
     "name": "stdout",
     "output_type": "stream",
     "text": [
      "We can invite only two people for dinner. We will remove the remaining guests\n",
      "Dear Imran Awan,\n",
      "I'm sorry, but I can't invite you to dinner.\n",
      "\n",
      "Dear Kaab Awan,\n",
      "I'm sorry, but I can't invite you to dinner.\n",
      "\n",
      "Dear Aarsh Awan,\n",
      "I'm sorry, but I can't invite you to dinner.\n",
      "\n",
      "Dear Komal Awan,\n",
      "I'm sorry, but I can't invite you to dinner.\n",
      "\n",
      "Dear Zahida Awan,\n",
      "I'm sorry, but I can't invite you to dinner.\n",
      "\n",
      "Dear Shahida Awan,\n",
      "I'm sorry, but I can't invite you to dinner.\n",
      "\n",
      "----New Invitations----\n",
      "Dear Javed Chouhan,\n",
      "You are cordially invited to dinner. We would be honored to have you join us.\n",
      "Looking forward to an evening of engaging conversation and inspiration.\n",
      "\n",
      "Dear Altaf Awan,\n",
      "You are cordially invited to dinner. We would be honored to have you join us.\n",
      "Looking forward to an evening of engaging conversation and inspiration.\n",
      "\n"
     ]
    }
   ],
   "source": [
    "print(\"We can invite only two people for dinner. We will remove the remaining guests\")\n",
    "# removing guests one at a time until only two remain\n",
    "while len(guest_list) > 2:\n",
    "    print(f\"Dear {guest_list.pop()},\")\n",
    "    print(\"I'm sorry, but I can't invite you to dinner.\")\n",
    "    print()\n",
    "\n",
    "print(\"----New Invitations----\")\n",
    "# sending invites to iupdated huest list\n",
    "for guest in guest_list:\n",
    "    print(f\"Dear {guest},\")\n",
    "    print(\"You are cordially invited to dinner. We would be honored to have you join us.\")\n",
    "    print(\"Looking forward to an evening of engaging conversation and inspiration.\")\n",
    "    print()  # Print a blank line for better readability"
   ]
  },
  {
   "cell_type": "markdown",
   "metadata": {},
   "source": [
    "**Exercise 3-8: Seeing the World**\n",
    "\n",
    "● Task: Think of at least five places in the world you’d like to visit. Store the locations in a list. Make sure the list is not in alphabetical order. Print your list in its original order. Don’t worry about printing the list neatly; just print it as a raw Python list. Use sorted() to print your list in alphabetical order without modifying the actual list. Show that your list is still in its original order by printing it. Use sorted() to print your list in reverse-alphabetical order without changing the order of the original list. Show that your list is still in its original order by printing it again. Use reverse() to change the order of your list. Print the list to show that its order has changed. Use reverse() to change the order of your list again. Print the list to show it’s back to its original order. Use sort() to change your list so it’s stored in alphabetical order. Print the list to show that its order"
   ]
  },
  {
   "cell_type": "code",
   "execution_count": null,
   "metadata": {},
   "outputs": [],
   "source": []
  }
 ],
 "metadata": {
  "kernelspec": {
   "display_name": "venv",
   "language": "python",
   "name": "python3"
  },
  "language_info": {
   "codemirror_mode": {
    "name": "ipython",
    "version": 3
   },
   "file_extension": ".py",
   "mimetype": "text/x-python",
   "name": "python",
   "nbconvert_exporter": "python",
   "pygments_lexer": "ipython3",
   "version": "3.12.4"
  }
 },
 "nbformat": 4,
 "nbformat_minor": 2
}
