{
 "cells": [
  {
   "cell_type": "markdown",
   "metadata": {},
   "source": [
    "**Python Exercises on Lists Exercise 3-1: Names**\n",
    "\n",
    "● Task: Store the names of a few of your friends in a list called names. Print each person’s name by accessing each element in the list, one at a time."
   ]
  },
  {
   "cell_type": "code",
   "execution_count": 15,
   "metadata": {},
   "outputs": [
    {
     "name": "stdout",
     "output_type": "stream",
     "text": [
      "Rahet\n",
      "Aarsh\n",
      "Riham\n",
      "Abood\n",
      "Hayyan\n"
     ]
    }
   ],
   "source": [
    "friends_name = [\"Rahet\", \"Aarsh\", \"Riham\", \"Abood\", \"Hayyan\"]\n",
    "for name in friends_name:\n",
    "    print(name)"
   ]
  },
  {
   "cell_type": "markdown",
   "metadata": {},
   "source": [
    "**Exercise 3-2: Greetings**\n",
    "\n",
    "● Task: Start with the list you used in Exercise 3-1. Instead of just printing each person’s name, print a message to them. The text of each message should be the same, but each message should be personalized with the person’s name."
   ]
  },
  {
   "cell_type": "code",
   "execution_count": 16,
   "metadata": {},
   "outputs": [
    {
     "name": "stdout",
     "output_type": "stream",
     "text": [
      "Welcome Rahet to PIAIC world\n",
      "Welcome Aarsh to PIAIC world\n",
      "Welcome Riham to PIAIC world\n",
      "Welcome Abood to PIAIC world\n",
      "Welcome Hayyan to PIAIC world\n"
     ]
    }
   ],
   "source": [
    "for name in friends_name:\n",
    "    print(f\"Welcome {name} to PIAIC world\")\n",
    "    "
   ]
  },
  {
   "cell_type": "markdown",
   "metadata": {},
   "source": [
    "**Exercise 3-3: Your Own List**\n",
    "\n",
    "● Task: Think of your favorite mode of transportation, such as a motorcycle or a car, and make a list that stores several examples. Use your list to print a series of statements about these items, such as “I would like to own a Honda motorcycle.”"
   ]
  },
  {
   "cell_type": "code",
   "execution_count": 17,
   "metadata": {},
   "outputs": [
    {
     "name": "stdout",
     "output_type": "stream",
     "text": [
      "I would like to own a Honda CBR\n",
      "I would like to own a Tesla Model S\n",
      "I would like to own a Lamborghini SVJ\n",
      "I would like to own a Bugatti DIVO\n"
     ]
    }
   ],
   "source": [
    "fave_transportation = [\"Honda CBR\", \"Tesla Model S\", \"Lamborghini SVJ\",\"Bugatti DIVO\"]\n",
    "for item in fave_transportation:\n",
    "    print(f\"I would like to own a {item}\")"
   ]
  },
  {
   "cell_type": "markdown",
   "metadata": {},
   "source": [
    "**Exercise 3-4: Guest List**\n",
    "\n",
    "● Task: If you could invite anyone, living or deceased, to dinner, who would you invite? Make a list that includes at least three people you’d like to invite to dinner. Then use your list to print a message to each person, inviting them to dinner."
   ]
  },
  {
   "cell_type": "code",
   "execution_count": 18,
   "metadata": {},
   "outputs": [
    {
     "name": "stdout",
     "output_type": "stream",
     "text": [
      "Dear Altaf Awan,\n",
      "You are cordially invited to dinner. We would be honored to have you join us.\n",
      "Looking forward to an evening of engaging conversation and inspiration.\n",
      "\n",
      "Dear Tariq Awan,\n",
      "You are cordially invited to dinner. We would be honored to have you join us.\n",
      "Looking forward to an evening of engaging conversation and inspiration.\n",
      "\n",
      "Dear Misbah Awan,\n",
      "You are cordially invited to dinner. We would be honored to have you join us.\n",
      "Looking forward to an evening of engaging conversation and inspiration.\n",
      "\n",
      "Dear Shahida Awan,\n",
      "You are cordially invited to dinner. We would be honored to have you join us.\n",
      "Looking forward to an evening of engaging conversation and inspiration.\n",
      "\n",
      "Dear Zahida Awan,\n",
      "You are cordially invited to dinner. We would be honored to have you join us.\n",
      "Looking forward to an evening of engaging conversation and inspiration.\n",
      "\n"
     ]
    }
   ],
   "source": [
    "guest_list = [\"Altaf Awan\", \"Tariq Awan\", \"Misbah Awan\",\"Shahida Awan\", \"Zahida Awan\"]\n",
    "for guest in guest_list:\n",
    "    print(f\"Dear {guest},\")\n",
    "    print(\"You are cordially invited to dinner. We would be honored to have you join us.\")\n",
    "    print(\"Looking forward to an evening of engaging conversation and inspiration.\")\n",
    "    print()  # Print a blank line for better readability"
   ]
  },
  {
   "cell_type": "markdown",
   "metadata": {},
   "source": [
    "**Exercise 3-5: Changing Guest List**\n",
    "\n",
    "● Task: Start with your program from Exercise 3-4. Add a print() call at the end of your program, stating the name of the guest who can’t make it. Modify your list, replacing the name of the guest who can’t make it with the name of the new person you are inviting. Print a second set of invitation messages, one for each person who is still in your list."
   ]
  },
  {
   "cell_type": "code",
   "execution_count": 19,
   "metadata": {},
   "outputs": [
    {
     "name": "stdout",
     "output_type": "stream",
     "text": [
      "Tariq Awan and Misbah Awan will not join us due to personal engagement in their family\n",
      "New Invitations----\n",
      "Dear Altaf Awan,\n",
      "You are cordially invited to dinner. We would be honored to have you join us.\n",
      "Looking forward to an evening of engaging conversation and inspiration.\n",
      "\n",
      "Dear Shahida Awan,\n",
      "You are cordially invited to dinner. We would be honored to have you join us.\n",
      "Looking forward to an evening of engaging conversation and inspiration.\n",
      "\n",
      "Dear Zahida Awan,\n",
      "You are cordially invited to dinner. We would be honored to have you join us.\n",
      "Looking forward to an evening of engaging conversation and inspiration.\n",
      "\n",
      "Dear Aarsh Awan,\n",
      "You are cordially invited to dinner. We would be honored to have you join us.\n",
      "Looking forward to an evening of engaging conversation and inspiration.\n",
      "\n",
      "Dear Kaab Awan,\n",
      "You are cordially invited to dinner. We would be honored to have you join us.\n",
      "Looking forward to an evening of engaging conversation and inspiration.\n",
      "\n"
     ]
    }
   ],
   "source": [
    "print(\"Tariq Awan and Misbah Awan will not join us due to personal engagement in their family\")\n",
    "# remove guest who can not attend\n",
    "guest_list.remove(\"Tariq Awan\")\n",
    "guest_list.remove(\"Misbah Awan\")\n",
    "# adding new guests\n",
    "guest_list.append(\"Aarsh Awan\")\n",
    "guest_list.append(\"Kaab Awan\")\n",
    "print(\"----New Invitations----\")\n",
    "# sending invites to iupdated huest list\n",
    "for guest in guest_list:\n",
    "    print(f\"Dear {guest},\")\n",
    "    print(\"You are cordially invited to dinner. We would be honored to have you join us.\")\n",
    "    print(\"Looking forward to an evening of engaging conversation and inspiration.\")\n",
    "    print()  # Print a blank line for better readability\n",
    "\n",
    "\n"
   ]
  }
 ],
 "metadata": {
  "kernelspec": {
   "display_name": "venv",
   "language": "python",
   "name": "python3"
  },
  "language_info": {
   "codemirror_mode": {
    "name": "ipython",
    "version": 3
   },
   "file_extension": ".py",
   "mimetype": "text/x-python",
   "name": "python",
   "nbconvert_exporter": "python",
   "pygments_lexer": "ipython3",
   "version": "3.12.4"
  }
 },
 "nbformat": 4,
 "nbformat_minor": 2
}
