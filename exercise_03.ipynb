{
 "cells": [
  {
   "cell_type": "markdown",
   "metadata": {},
   "source": [
    "**Python Exercises on Lists Exercise 3-1: Names**\n",
    "\n",
    "● Task: Store the names of a few of your friends in a list called names. Print each person’s name by accessing each element in the list, one at a time."
   ]
  },
  {
   "cell_type": "code",
   "execution_count": 4,
   "metadata": {},
   "outputs": [
    {
     "name": "stdout",
     "output_type": "stream",
     "text": [
      "Rahet\n",
      "Aarsh\n",
      "Riham\n",
      "Abood\n",
      "Hayyan\n"
     ]
    }
   ],
   "source": [
    "friends_name = [\"Rahet\", \"Aarsh\", \"Riham\", \"Abood\", \"Hayyan\"]\n",
    "for name in friends_name:\n",
    "    print(name)"
   ]
  },
  {
   "cell_type": "markdown",
   "metadata": {},
   "source": [
    "**Exercise 3-2: Greetings**\n",
    "\n",
    "● Task: Start with the list you used in Exercise 3-1. Instead of just printing each person’s name, print a message to them. The text of each message should be the same, but each message should be personalized with the person’s name."
   ]
  },
  {
   "cell_type": "code",
   "execution_count": 6,
   "metadata": {},
   "outputs": [
    {
     "name": "stdout",
     "output_type": "stream",
     "text": [
      "Welcome Rahet to PIAIC world\n",
      "Welcome Aarsh to PIAIC world\n",
      "Welcome Riham to PIAIC world\n",
      "Welcome Abood to PIAIC world\n",
      "Welcome Hayyan to PIAIC world\n"
     ]
    }
   ],
   "source": [
    "for name in friends_name:\n",
    "    print(f\"Welcome {name} to PIAIC world\")\n",
    "    "
   ]
  },
  {
   "cell_type": "markdown",
   "metadata": {},
   "source": [
    "**Exercise 3-3: Your Own List**\n",
    "\n",
    "● Task: Think of your favorite mode of transportation, such as a motorcycle or a car, and make a list that stores several examples. Use your list to print a series of statements about these items, such as “I would like to own a Honda motorcycle.”"
   ]
  },
  {
   "cell_type": "code",
   "execution_count": 7,
   "metadata": {},
   "outputs": [
    {
     "name": "stdout",
     "output_type": "stream",
     "text": [
      "I would like to own a Honda motorcycle\n",
      "I would like to own a Tesla Model S\n",
      "I would like to own a Lamborg\n"
     ]
    }
   ],
   "source": [
    "fave_transportation = [\"Honda CBR\", \"Tesla Model S\", \"Lamborghini SVJ\",\"Bugatti DIVO\"]\n",
    "for item in fave_transportation:\n",
    "    print(f\"I would like to own a {item}\")"
   ]
  },
  {
   "cell_type": "markdown",
   "metadata": {},
   "source": []
  },
  {
   "cell_type": "markdown",
   "metadata": {},
   "source": [
    "**Exercise 3-4: Guest List**\n",
    "\n",
    "● Task: If you could invite anyone, living or deceased, to dinner, who would you invite? Make a list that includes at least three people you’d like to invite to dinner. Then use your list to print a message to each person, inviting them to dinner."
   ]
  },
  {
   "cell_type": "code",
   "execution_count": null,
   "metadata": {},
   "outputs": [],
   "source": []
  }
 ],
 "metadata": {
  "kernelspec": {
   "display_name": "venv",
   "language": "python",
   "name": "python3"
  },
  "language_info": {
   "codemirror_mode": {
    "name": "ipython",
    "version": 3
   },
   "file_extension": ".py",
   "mimetype": "text/x-python",
   "name": "python",
   "nbconvert_exporter": "python",
   "pygments_lexer": "ipython3",
   "version": "3.12.4"
  }
 },
 "nbformat": 4,
 "nbformat_minor": 2
}
